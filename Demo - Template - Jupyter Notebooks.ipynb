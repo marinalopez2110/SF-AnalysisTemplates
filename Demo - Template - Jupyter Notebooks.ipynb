{
 "cells": [
  {
   "cell_type": "markdown",
   "metadata": {},
   "source": [
    "# MANAGE PACKAGES"
   ]
  },
  {
   "cell_type": "code",
   "execution_count": 9,
   "metadata": {},
   "outputs": [
    {
     "name": "stdout",
     "output_type": "stream",
     "text": [
      "Requirement already satisfied: pandas in /home/jupyterhub/anaconda3/lib/python3.7/site-packages (0.23.4)\n",
      "Requirement already satisfied: sklearn in /home/jupyterhub/anaconda3/lib/python3.7/site-packages (0.0)\n",
      "Requirement already satisfied: matplotlib in /home/jupyterhub/anaconda3/lib/python3.7/site-packages (3.0.2)\n",
      "Requirement already satisfied: numpy in /home/jupyterhub/anaconda3/lib/python3.7/site-packages (1.15.4)\n",
      "Requirement already satisfied: seaborn in /home/jupyterhub/anaconda3/lib/python3.7/site-packages (0.9.0)\n",
      "Requirement already satisfied: python-dateutil>=2.5.0 in /home/jupyterhub/anaconda3/lib/python3.7/site-packages (from pandas) (2.7.5)\n",
      "Requirement already satisfied: pytz>=2011k in /home/jupyterhub/anaconda3/lib/python3.7/site-packages (from pandas) (2018.7)\n",
      "Requirement already satisfied: scikit-learn in /home/jupyterhub/anaconda3/lib/python3.7/site-packages (from sklearn) (0.20.1)\n",
      "Requirement already satisfied: cycler>=0.10 in /home/jupyterhub/anaconda3/lib/python3.7/site-packages (from matplotlib) (0.10.0)\n",
      "Requirement already satisfied: kiwisolver>=1.0.1 in /home/jupyterhub/anaconda3/lib/python3.7/site-packages (from matplotlib) (1.0.1)\n",
      "Requirement already satisfied: pyparsing!=2.0.4,!=2.1.2,!=2.1.6,>=2.0.1 in /home/jupyterhub/anaconda3/lib/python3.7/site-packages (from matplotlib) (2.3.0)\n",
      "Requirement already satisfied: scipy>=0.14.0 in /home/jupyterhub/anaconda3/lib/python3.7/site-packages (from seaborn) (1.1.0)\n",
      "Requirement already satisfied: six>=1.5 in /home/jupyterhub/anaconda3/lib/python3.7/site-packages (from python-dateutil>=2.5.0->pandas) (1.12.0)\n",
      "Requirement already satisfied: setuptools in /home/jupyterhub/anaconda3/lib/python3.7/site-packages (from kiwisolver>=1.0.1->matplotlib) (40.6.3)\n"
     ]
    }
   ],
   "source": [
    "import sys\n",
    "!{sys.executable} -m pip install  pandas sklearn matplotlib numpy seaborn\n",
    "import os\n",
    "import pandas as pd\n",
    "import numpy as np\n",
    "import matplotlib.pyplot as plt\n",
    "import seaborn as sns\n",
    "from sklearn.model_selection import train_test_split\n",
    "from sklearn.linear_model import LinearRegression\n",
    "from sklearn import metrics\n",
    "from sklearn.metrics import r2_score \n",
    "from datetime import datetime\n",
    "from dateutil.parser import parse\n",
    "from pandas import Series, DataFrame, Panel\n",
    "%matplotlib inline"
   ]
  },
  {
   "cell_type": "markdown",
   "metadata": {},
   "source": [
    "# GENERAL FUNCTIONS"
   ]
  },
  {
   "cell_type": "markdown",
   "metadata": {},
   "source": [
    "These functions should eventually be stored in a different file to clear up this Notebook.\n",
    "\n",
    "Following function loads the data from the folders stored in the same directory. In final version this should be done through and URL using WebDav protocol. This is an issue to be fixed.\n",
    "\n",
    "Functions created to read each file in each folder, format data and creat a DataFrame. This is necessary given that the data is generated in a proprietary format (SWF extention). Although it can be loaded as a CSV format and fields are recognized by Python, we need to do some changes to make easier the management of the data"
   ]
  },
  {
   "cell_type": "code",
   "execution_count": 10,
   "metadata": {},
   "outputs": [],
   "source": [
    "#Formats data into float for data analysis\n",
    "def convert_to_float(x):\n",
    "    if isinstance(x,str):\n",
    "        return float(x.replace(',','.'))\n",
    "    else:\n",
    "        return x                    \n",
    "\n",
    "#Loads every line from the file into a dataframe\n",
    "def load_swd(filename):\n",
    "    df = pd.read_csv(filename, delimiter='\\t')\n",
    "    station = df.columns[0]\n",
    "    df2 = pd.read_csv(filename, delimiter='\\t', skiprows=[0]) \n",
    "    df2 = df2[2:]\n",
    "    format_df(df2, station)\n",
    "    return df2\n",
    "\n",
    "#Renames every column with and easier name and calls function to Format data. \n",
    "#It also adds a column with the station number\n",
    "def format_df(df, station):\n",
    "    df.columns=['TIME','TMPA','TMPB','SMSC','SMSD','TMP','HMD','DEW']\n",
    "    #Convert Variables into float\n",
    "    df[\"TMPA\"] = [convert_to_float(s) for s in df.TMPA]\n",
    "    df[\"TMPB\"] = [convert_to_float(s) for s in df.TMPB]\n",
    "    df[\"SMSC\"] = [convert_to_float(s) for s in df.SMSC]\n",
    "    df[\"SMSD\"] = [convert_to_float(s) for s in df.SMSD]\n",
    "    df[\"TMP\"] = [convert_to_float(s) for s in df.TMP] \n",
    "    df[\"HMD\"] = [convert_to_float(s) for s in df.HMD]\n",
    "    df[\"DEW\"] = [convert_to_float(s) for s in df.DEW]\n",
    "    #Convert time string into time format\n",
    "    df[\"TIME\"] = pd.to_datetime(df['TIME'])\n",
    "    df[\"STATION\"] = station\n",
    "\n",
    "#Reads every file within the directory and calls function to insert the lines in a dataframe\n",
    "def load_directory(directory_no):\n",
    "    directory = str(directory_no)\n",
    "    merged = []\n",
    "    files = [f for f in os.listdir(directory)]\n",
    "    for f in files:\n",
    "        #print os.path.join(directory,f)\n",
    "        filename, ext = os.path.splitext(f)\n",
    "        if filename == 'INDEX':\n",
    "            pass\n",
    "        else:\n",
    "            if ext == '.TXT':     \n",
    "               # print os.path.join(directory,f)\n",
    "                read = load_swd(os.path.join(directory,f)) \n",
    "                merged.append(read)\n",
    "    result = pd.concat(merged)\n",
    "    return result\n",
    "\n",
    "#Given a maximum number of stations, Ex: 32. It read every station folder and returns a dataframe containing all the data\n",
    "def load_all_stations(maxn):\n",
    "    # return pd.concat(map(load_directory, range(1, maxn)))\n",
    "    folders = range(1,maxn)\n",
    "    dfstion = []\n",
    "    for x in folders:\n",
    "        read = load_directory(x)\n",
    "        dfstion.append(read)\n",
    "    completedf = pd.concat(dfstion)\n",
    "    return completedf"
   ]
  },
  {
   "cell_type": "markdown",
   "metadata": {},
   "source": [
    "# LOADING DATA"
   ]
  },
  {
   "cell_type": "markdown",
   "metadata": {},
   "source": [
    "## Loading one single File"
   ]
  },
  {
   "cell_type": "markdown",
   "metadata": {},
   "source": [
    "This is to show how the file is loaded directly with PANDAS, without any Data treatement. \n",
    "\n",
    "You will note that:\n",
    "- This give us the original headers that are hard to refer when coding\n",
    "- Data is not really in float format. It's a string that should be converted into float and formatted correctly so we can do analysis with this data. \n",
    "- Data starts in line number 2. This is corrected with upper functions"
   ]
  },
  {
   "cell_type": "code",
   "execution_count": 11,
   "metadata": {},
   "outputs": [
    {
     "data": {
      "text/html": [
       "<div>\n",
       "<style scoped>\n",
       "    .dataframe tbody tr th:only-of-type {\n",
       "        vertical-align: middle;\n",
       "    }\n",
       "\n",
       "    .dataframe tbody tr th {\n",
       "        vertical-align: top;\n",
       "    }\n",
       "\n",
       "    .dataframe thead th {\n",
       "        text-align: right;\n",
       "    }\n",
       "</style>\n",
       "<table border=\"1\" class=\"dataframe\">\n",
       "  <thead>\n",
       "    <tr style=\"text-align: right;\">\n",
       "      <th></th>\n",
       "      <th></th>\n",
       "      <th>Temperature (*C)</th>\n",
       "      <th>Temperature (*C).1</th>\n",
       "      <th>Soil Moist (kPa)</th>\n",
       "      <th>Soil Moist (kPa).1</th>\n",
       "      <th>Temperature (*C).2</th>\n",
       "      <th>RH (%)</th>\n",
       "      <th>Dew Point (*C)</th>\n",
       "    </tr>\n",
       "  </thead>\n",
       "  <tbody>\n",
       "    <tr>\n",
       "      <th>0</th>\n",
       "      <td></td>\n",
       "      <td>*C</td>\n",
       "      <td>*C</td>\n",
       "      <td>kPa</td>\n",
       "      <td>kPa</td>\n",
       "      <td>*C</td>\n",
       "      <td>%</td>\n",
       "      <td>*C</td>\n",
       "    </tr>\n",
       "    <tr>\n",
       "      <th>1</th>\n",
       "      <td>Date and Time</td>\n",
       "      <td>TMPA</td>\n",
       "      <td>TMPB</td>\n",
       "      <td>SMSC</td>\n",
       "      <td>SMSD</td>\n",
       "      <td>TMP</td>\n",
       "      <td>HMD</td>\n",
       "      <td>DEW</td>\n",
       "    </tr>\n",
       "    <tr>\n",
       "      <th>2</th>\n",
       "      <td>2017-05-10 10:00</td>\n",
       "      <td>4,4</td>\n",
       "      <td>5,8</td>\n",
       "      <td>0</td>\n",
       "      <td>0</td>\n",
       "      <td>10,9</td>\n",
       "      <td>49,3</td>\n",
       "      <td>0,7</td>\n",
       "    </tr>\n",
       "    <tr>\n",
       "      <th>3</th>\n",
       "      <td>2017-05-10 10:15</td>\n",
       "      <td>4,5</td>\n",
       "      <td>5</td>\n",
       "      <td>0</td>\n",
       "      <td>0</td>\n",
       "      <td>10,2</td>\n",
       "      <td>48,5</td>\n",
       "      <td>-0,2</td>\n",
       "    </tr>\n",
       "    <tr>\n",
       "      <th>4</th>\n",
       "      <td>2017-05-10 10:30</td>\n",
       "      <td>4,5</td>\n",
       "      <td>4,8</td>\n",
       "      <td>0</td>\n",
       "      <td>0</td>\n",
       "      <td>9,7</td>\n",
       "      <td>48,1</td>\n",
       "      <td>-0,8</td>\n",
       "    </tr>\n",
       "  </tbody>\n",
       "</table>\n",
       "</div>"
      ],
      "text/plain": [
       "                        Temperature (*C) Temperature (*C).1 Soil Moist (kPa)  \\\n",
       "0                                     *C                 *C              kPa   \n",
       "1      Date and Time                TMPA               TMPB             SMSC   \n",
       "2      2017-05-10 10:00              4,4                5,8                0   \n",
       "3      2017-05-10 10:15              4,5                  5                0   \n",
       "4      2017-05-10 10:30              4,5                4,8                0   \n",
       "\n",
       "  Soil Moist (kPa).1 Temperature (*C).2 RH (%) Dew Point (*C)  \n",
       "0                kPa                 *C      %             *C  \n",
       "1               SMSD                TMP    HMD            DEW  \n",
       "2                  0               10,9   49,3            0,7  \n",
       "3                  0               10,2   48,5           -0,2  \n",
       "4                  0                9,7   48,1           -0,8  "
      ]
     },
     "execution_count": 11,
     "metadata": {},
     "output_type": "execute_result"
    }
   ],
   "source": [
    "df = pd.read_csv('Station1_2017.TXT', delimiter='\\t', skiprows=[0]) \n",
    "#df = df[1:]\n",
    "df.head()"
   ]
  },
  {
   "cell_type": "markdown",
   "metadata": {},
   "source": [
    "## Loading all the files in the Directory"
   ]
  },
  {
   "cell_type": "markdown",
   "metadata": {},
   "source": [
    "In contrast with the method used above, followin Data load uses the \"General Functions\" in the top of this Notebook. \n",
    "You will note that: \n",
    "- Columns have been renamed for ease to use\n",
    "- Data has been corectly formatted\n",
    "- Data doesn't include unnecessary rows "
   ]
  },
  {
   "cell_type": "code",
   "execution_count": 16,
   "metadata": {},
   "outputs": [],
   "source": [
    "df4 = load_swd('Station10_2017.txt')"
   ]
  },
  {
   "cell_type": "code",
   "execution_count": 5,
   "metadata": {},
   "outputs": [
    {
     "data": {
      "text/html": [
       "<div>\n",
       "<style scoped>\n",
       "    .dataframe tbody tr th:only-of-type {\n",
       "        vertical-align: middle;\n",
       "    }\n",
       "\n",
       "    .dataframe tbody tr th {\n",
       "        vertical-align: top;\n",
       "    }\n",
       "\n",
       "    .dataframe thead th {\n",
       "        text-align: right;\n",
       "    }\n",
       "</style>\n",
       "<table border=\"1\" class=\"dataframe\">\n",
       "  <thead>\n",
       "    <tr style=\"text-align: right;\">\n",
       "      <th></th>\n",
       "      <th>TIME</th>\n",
       "      <th>TMPA</th>\n",
       "      <th>TMPB</th>\n",
       "      <th>SMSC</th>\n",
       "      <th>SMSD</th>\n",
       "      <th>TMP</th>\n",
       "      <th>HMD</th>\n",
       "      <th>DEW</th>\n",
       "      <th>STATION</th>\n",
       "    </tr>\n",
       "  </thead>\n",
       "  <tbody>\n",
       "    <tr>\n",
       "      <th>2</th>\n",
       "      <td>2017-05-10 16:00:00</td>\n",
       "      <td>6.6</td>\n",
       "      <td>8.2</td>\n",
       "      <td>0.0</td>\n",
       "      <td>0.0</td>\n",
       "      <td>14.6</td>\n",
       "      <td>75.5</td>\n",
       "      <td>10.3</td>\n",
       "      <td>10</td>\n",
       "    </tr>\n",
       "    <tr>\n",
       "      <th>3</th>\n",
       "      <td>2017-05-10 16:15:00</td>\n",
       "      <td>6.6</td>\n",
       "      <td>7.5</td>\n",
       "      <td>0.0</td>\n",
       "      <td>0.0</td>\n",
       "      <td>14.9</td>\n",
       "      <td>65.6</td>\n",
       "      <td>8.5</td>\n",
       "      <td>10</td>\n",
       "    </tr>\n",
       "    <tr>\n",
       "      <th>4</th>\n",
       "      <td>2017-05-10 16:30:00</td>\n",
       "      <td>6.5</td>\n",
       "      <td>7.3</td>\n",
       "      <td>0.0</td>\n",
       "      <td>0.0</td>\n",
       "      <td>14.4</td>\n",
       "      <td>58.1</td>\n",
       "      <td>6.3</td>\n",
       "      <td>10</td>\n",
       "    </tr>\n",
       "    <tr>\n",
       "      <th>5</th>\n",
       "      <td>2017-05-10 16:45:00</td>\n",
       "      <td>6.4</td>\n",
       "      <td>7.1</td>\n",
       "      <td>0.0</td>\n",
       "      <td>0.0</td>\n",
       "      <td>13.6</td>\n",
       "      <td>54.6</td>\n",
       "      <td>4.6</td>\n",
       "      <td>10</td>\n",
       "    </tr>\n",
       "    <tr>\n",
       "      <th>6</th>\n",
       "      <td>2017-05-10 17:00:00</td>\n",
       "      <td>6.3</td>\n",
       "      <td>7.0</td>\n",
       "      <td>0.0</td>\n",
       "      <td>0.0</td>\n",
       "      <td>13.0</td>\n",
       "      <td>53.1</td>\n",
       "      <td>3.7</td>\n",
       "      <td>10</td>\n",
       "    </tr>\n",
       "    <tr>\n",
       "      <th>7</th>\n",
       "      <td>2017-05-10 17:15:00</td>\n",
       "      <td>6.3</td>\n",
       "      <td>6.9</td>\n",
       "      <td>0.0</td>\n",
       "      <td>0.0</td>\n",
       "      <td>12.7</td>\n",
       "      <td>52.1</td>\n",
       "      <td>3.1</td>\n",
       "      <td>10</td>\n",
       "    </tr>\n",
       "    <tr>\n",
       "      <th>8</th>\n",
       "      <td>2017-05-10 17:30:00</td>\n",
       "      <td>6.3</td>\n",
       "      <td>6.8</td>\n",
       "      <td>0.0</td>\n",
       "      <td>0.0</td>\n",
       "      <td>12.6</td>\n",
       "      <td>51.3</td>\n",
       "      <td>2.8</td>\n",
       "      <td>10</td>\n",
       "    </tr>\n",
       "    <tr>\n",
       "      <th>9</th>\n",
       "      <td>2017-05-10 17:45:00</td>\n",
       "      <td>6.2</td>\n",
       "      <td>6.7</td>\n",
       "      <td>0.0</td>\n",
       "      <td>0.0</td>\n",
       "      <td>12.4</td>\n",
       "      <td>50.8</td>\n",
       "      <td>2.5</td>\n",
       "      <td>10</td>\n",
       "    </tr>\n",
       "    <tr>\n",
       "      <th>10</th>\n",
       "      <td>2017-05-10 18:00:00</td>\n",
       "      <td>6.2</td>\n",
       "      <td>6.6</td>\n",
       "      <td>0.0</td>\n",
       "      <td>0.0</td>\n",
       "      <td>12.5</td>\n",
       "      <td>50.4</td>\n",
       "      <td>2.5</td>\n",
       "      <td>10</td>\n",
       "    </tr>\n",
       "    <tr>\n",
       "      <th>11</th>\n",
       "      <td>2017-05-10 18:15:00</td>\n",
       "      <td>6.2</td>\n",
       "      <td>6.6</td>\n",
       "      <td>0.0</td>\n",
       "      <td>0.0</td>\n",
       "      <td>12.6</td>\n",
       "      <td>49.5</td>\n",
       "      <td>2.3</td>\n",
       "      <td>10</td>\n",
       "    </tr>\n",
       "    <tr>\n",
       "      <th>12</th>\n",
       "      <td>2017-05-10 18:30:00</td>\n",
       "      <td>6.2</td>\n",
       "      <td>6.5</td>\n",
       "      <td>0.0</td>\n",
       "      <td>0.0</td>\n",
       "      <td>12.7</td>\n",
       "      <td>49.2</td>\n",
       "      <td>2.3</td>\n",
       "      <td>10</td>\n",
       "    </tr>\n",
       "    <tr>\n",
       "      <th>13</th>\n",
       "      <td>2017-05-10 18:45:00</td>\n",
       "      <td>6.1</td>\n",
       "      <td>6.5</td>\n",
       "      <td>0.0</td>\n",
       "      <td>0.0</td>\n",
       "      <td>12.2</td>\n",
       "      <td>48.7</td>\n",
       "      <td>1.7</td>\n",
       "      <td>10</td>\n",
       "    </tr>\n",
       "    <tr>\n",
       "      <th>14</th>\n",
       "      <td>2017-05-10 19:00:00</td>\n",
       "      <td>6.1</td>\n",
       "      <td>6.4</td>\n",
       "      <td>0.0</td>\n",
       "      <td>0.0</td>\n",
       "      <td>11.5</td>\n",
       "      <td>49.0</td>\n",
       "      <td>1.1</td>\n",
       "      <td>10</td>\n",
       "    </tr>\n",
       "    <tr>\n",
       "      <th>15</th>\n",
       "      <td>2017-05-10 19:15:00</td>\n",
       "      <td>6.1</td>\n",
       "      <td>6.4</td>\n",
       "      <td>0.0</td>\n",
       "      <td>0.0</td>\n",
       "      <td>10.9</td>\n",
       "      <td>50.6</td>\n",
       "      <td>1.0</td>\n",
       "      <td>10</td>\n",
       "    </tr>\n",
       "    <tr>\n",
       "      <th>16</th>\n",
       "      <td>2017-05-10 19:30:00</td>\n",
       "      <td>6.1</td>\n",
       "      <td>6.3</td>\n",
       "      <td>0.0</td>\n",
       "      <td>0.0</td>\n",
       "      <td>10.2</td>\n",
       "      <td>52.2</td>\n",
       "      <td>0.8</td>\n",
       "      <td>10</td>\n",
       "    </tr>\n",
       "    <tr>\n",
       "      <th>17</th>\n",
       "      <td>2017-05-10 19:45:00</td>\n",
       "      <td>6.1</td>\n",
       "      <td>6.3</td>\n",
       "      <td>0.0</td>\n",
       "      <td>0.0</td>\n",
       "      <td>9.7</td>\n",
       "      <td>53.7</td>\n",
       "      <td>0.8</td>\n",
       "      <td>10</td>\n",
       "    </tr>\n",
       "    <tr>\n",
       "      <th>18</th>\n",
       "      <td>2017-05-10 20:00:00</td>\n",
       "      <td>6.0</td>\n",
       "      <td>6.2</td>\n",
       "      <td>0.0</td>\n",
       "      <td>0.0</td>\n",
       "      <td>9.2</td>\n",
       "      <td>55.4</td>\n",
       "      <td>0.7</td>\n",
       "      <td>10</td>\n",
       "    </tr>\n",
       "    <tr>\n",
       "      <th>19</th>\n",
       "      <td>2017-05-10 20:15:00</td>\n",
       "      <td>6.0</td>\n",
       "      <td>6.2</td>\n",
       "      <td>0.0</td>\n",
       "      <td>0.0</td>\n",
       "      <td>8.4</td>\n",
       "      <td>56.3</td>\n",
       "      <td>0.2</td>\n",
       "      <td>10</td>\n",
       "    </tr>\n",
       "    <tr>\n",
       "      <th>20</th>\n",
       "      <td>2017-05-10 20:30:00</td>\n",
       "      <td>6.0</td>\n",
       "      <td>6.1</td>\n",
       "      <td>0.0</td>\n",
       "      <td>0.0</td>\n",
       "      <td>7.8</td>\n",
       "      <td>57.6</td>\n",
       "      <td>-0.1</td>\n",
       "      <td>10</td>\n",
       "    </tr>\n",
       "    <tr>\n",
       "      <th>21</th>\n",
       "      <td>2017-05-10 20:45:00</td>\n",
       "      <td>6.0</td>\n",
       "      <td>6.1</td>\n",
       "      <td>0.0</td>\n",
       "      <td>0.0</td>\n",
       "      <td>6.8</td>\n",
       "      <td>58.2</td>\n",
       "      <td>-0.9</td>\n",
       "      <td>10</td>\n",
       "    </tr>\n",
       "  </tbody>\n",
       "</table>\n",
       "</div>"
      ],
      "text/plain": [
       "                  TIME  TMPA  TMPB  SMSC  SMSD   TMP   HMD   DEW STATION\n",
       "2  2017-05-10 16:00:00   6.6   8.2   0.0   0.0  14.6  75.5  10.3      10\n",
       "3  2017-05-10 16:15:00   6.6   7.5   0.0   0.0  14.9  65.6   8.5      10\n",
       "4  2017-05-10 16:30:00   6.5   7.3   0.0   0.0  14.4  58.1   6.3      10\n",
       "5  2017-05-10 16:45:00   6.4   7.1   0.0   0.0  13.6  54.6   4.6      10\n",
       "6  2017-05-10 17:00:00   6.3   7.0   0.0   0.0  13.0  53.1   3.7      10\n",
       "7  2017-05-10 17:15:00   6.3   6.9   0.0   0.0  12.7  52.1   3.1      10\n",
       "8  2017-05-10 17:30:00   6.3   6.8   0.0   0.0  12.6  51.3   2.8      10\n",
       "9  2017-05-10 17:45:00   6.2   6.7   0.0   0.0  12.4  50.8   2.5      10\n",
       "10 2017-05-10 18:00:00   6.2   6.6   0.0   0.0  12.5  50.4   2.5      10\n",
       "11 2017-05-10 18:15:00   6.2   6.6   0.0   0.0  12.6  49.5   2.3      10\n",
       "12 2017-05-10 18:30:00   6.2   6.5   0.0   0.0  12.7  49.2   2.3      10\n",
       "13 2017-05-10 18:45:00   6.1   6.5   0.0   0.0  12.2  48.7   1.7      10\n",
       "14 2017-05-10 19:00:00   6.1   6.4   0.0   0.0  11.5  49.0   1.1      10\n",
       "15 2017-05-10 19:15:00   6.1   6.4   0.0   0.0  10.9  50.6   1.0      10\n",
       "16 2017-05-10 19:30:00   6.1   6.3   0.0   0.0  10.2  52.2   0.8      10\n",
       "17 2017-05-10 19:45:00   6.1   6.3   0.0   0.0   9.7  53.7   0.8      10\n",
       "18 2017-05-10 20:00:00   6.0   6.2   0.0   0.0   9.2  55.4   0.7      10\n",
       "19 2017-05-10 20:15:00   6.0   6.2   0.0   0.0   8.4  56.3   0.2      10\n",
       "20 2017-05-10 20:30:00   6.0   6.1   0.0   0.0   7.8  57.6  -0.1      10\n",
       "21 2017-05-10 20:45:00   6.0   6.1   0.0   0.0   6.8  58.2  -0.9      10"
      ]
     },
     "execution_count": 5,
     "metadata": {},
     "output_type": "execute_result"
    }
   ],
   "source": [
    "df4.head(20)"
   ]
  },
  {
   "cell_type": "markdown",
   "metadata": {},
   "source": [
    "# Clean up Data"
   ]
  },
  {
   "cell_type": "markdown",
   "metadata": {},
   "source": [
    "## Eliminate duplicates"
   ]
  },
  {
   "cell_type": "code",
   "execution_count": null,
   "metadata": {},
   "outputs": [],
   "source": [
    "http://pandas.pydata.org/pandas-docs/version/0.17/generated/pandas.DataFrame.drop_duplicates.html"
   ]
  },
  {
   "cell_type": "markdown",
   "metadata": {},
   "source": [
    "## Eliminate outliers"
   ]
  },
  {
   "cell_type": "markdown",
   "metadata": {},
   "source": [
    "## Missing values"
   ]
  },
  {
   "cell_type": "markdown",
   "metadata": {},
   "source": [
    "### Standard types"
   ]
  },
  {
   "cell_type": "markdown",
   "metadata": {},
   "source": [
    "### Non-Standard types"
   ]
  },
  {
   "cell_type": "markdown",
   "metadata": {},
   "source": [
    "### Unexpected types"
   ]
  },
  {
   "cell_type": "markdown",
   "metadata": {},
   "source": [
    "### Summarizing"
   ]
  },
  {
   "cell_type": "markdown",
   "metadata": {},
   "source": [
    "### Replacing"
   ]
  },
  {
   "cell_type": "code",
   "execution_count": null,
   "metadata": {},
   "outputs": [],
   "source": [
    "https://www.youtube.com/watch?v=ZOX18HfLHGQ"
   ]
  },
  {
   "cell_type": "markdown",
   "metadata": {},
   "source": [
    "# Basic statistics"
   ]
  },
  {
   "cell_type": "markdown",
   "metadata": {},
   "source": [
    "This is a built-in pandas python function. For more information see https://pandas.pydata.org/pandas-docs/stable/reference/api/pandas.DataFrame.describe.html"
   ]
  },
  {
   "cell_type": "code",
   "execution_count": 17,
   "metadata": {},
   "outputs": [
    {
     "data": {
      "text/html": [
       "<div>\n",
       "<style scoped>\n",
       "    .dataframe tbody tr th:only-of-type {\n",
       "        vertical-align: middle;\n",
       "    }\n",
       "\n",
       "    .dataframe tbody tr th {\n",
       "        vertical-align: top;\n",
       "    }\n",
       "\n",
       "    .dataframe thead th {\n",
       "        text-align: right;\n",
       "    }\n",
       "</style>\n",
       "<table border=\"1\" class=\"dataframe\">\n",
       "  <thead>\n",
       "    <tr style=\"text-align: right;\">\n",
       "      <th></th>\n",
       "      <th>TMPA</th>\n",
       "      <th>TMPB</th>\n",
       "      <th>SMSC</th>\n",
       "      <th>SMSD</th>\n",
       "      <th>TMP</th>\n",
       "      <th>HMD</th>\n",
       "      <th>DEW</th>\n",
       "    </tr>\n",
       "  </thead>\n",
       "  <tbody>\n",
       "    <tr>\n",
       "      <th>count</th>\n",
       "      <td>15735.000000</td>\n",
       "      <td>15735.000000</td>\n",
       "      <td>15735.000000</td>\n",
       "      <td>15735.000000</td>\n",
       "      <td>15735.000000</td>\n",
       "      <td>15735.000000</td>\n",
       "      <td>14095.000000</td>\n",
       "    </tr>\n",
       "    <tr>\n",
       "      <th>mean</th>\n",
       "      <td>12.852145</td>\n",
       "      <td>13.189349</td>\n",
       "      <td>5.892304</td>\n",
       "      <td>7.472050</td>\n",
       "      <td>14.793054</td>\n",
       "      <td>81.090950</td>\n",
       "      <td>10.552210</td>\n",
       "    </tr>\n",
       "    <tr>\n",
       "      <th>std</th>\n",
       "      <td>2.704242</td>\n",
       "      <td>2.849373</td>\n",
       "      <td>6.826261</td>\n",
       "      <td>6.037326</td>\n",
       "      <td>5.243202</td>\n",
       "      <td>16.071752</td>\n",
       "      <td>5.307313</td>\n",
       "    </tr>\n",
       "    <tr>\n",
       "      <th>min</th>\n",
       "      <td>5.000000</td>\n",
       "      <td>5.100000</td>\n",
       "      <td>0.000000</td>\n",
       "      <td>0.000000</td>\n",
       "      <td>-1.600000</td>\n",
       "      <td>13.100000</td>\n",
       "      <td>-9.600000</td>\n",
       "    </tr>\n",
       "    <tr>\n",
       "      <th>25%</th>\n",
       "      <td>10.700000</td>\n",
       "      <td>10.900000</td>\n",
       "      <td>0.000000</td>\n",
       "      <td>1.400000</td>\n",
       "      <td>11.200000</td>\n",
       "      <td>71.400000</td>\n",
       "      <td>7.100000</td>\n",
       "    </tr>\n",
       "    <tr>\n",
       "      <th>50%</th>\n",
       "      <td>13.000000</td>\n",
       "      <td>13.300000</td>\n",
       "      <td>3.100000</td>\n",
       "      <td>7.500000</td>\n",
       "      <td>14.900000</td>\n",
       "      <td>83.600000</td>\n",
       "      <td>10.900000</td>\n",
       "    </tr>\n",
       "    <tr>\n",
       "      <th>75%</th>\n",
       "      <td>15.100000</td>\n",
       "      <td>15.500000</td>\n",
       "      <td>11.300000</td>\n",
       "      <td>11.300000</td>\n",
       "      <td>18.300000</td>\n",
       "      <td>94.500000</td>\n",
       "      <td>14.300000</td>\n",
       "    </tr>\n",
       "    <tr>\n",
       "      <th>max</th>\n",
       "      <td>19.100000</td>\n",
       "      <td>32.200000</td>\n",
       "      <td>22.900000</td>\n",
       "      <td>22.500000</td>\n",
       "      <td>38.700000</td>\n",
       "      <td>101.600000</td>\n",
       "      <td>23.400000</td>\n",
       "    </tr>\n",
       "  </tbody>\n",
       "</table>\n",
       "</div>"
      ],
      "text/plain": [
       "               TMPA          TMPB          SMSC          SMSD           TMP  \\\n",
       "count  15735.000000  15735.000000  15735.000000  15735.000000  15735.000000   \n",
       "mean      12.852145     13.189349      5.892304      7.472050     14.793054   \n",
       "std        2.704242      2.849373      6.826261      6.037326      5.243202   \n",
       "min        5.000000      5.100000      0.000000      0.000000     -1.600000   \n",
       "25%       10.700000     10.900000      0.000000      1.400000     11.200000   \n",
       "50%       13.000000     13.300000      3.100000      7.500000     14.900000   \n",
       "75%       15.100000     15.500000     11.300000     11.300000     18.300000   \n",
       "max       19.100000     32.200000     22.900000     22.500000     38.700000   \n",
       "\n",
       "                HMD           DEW  \n",
       "count  15735.000000  14095.000000  \n",
       "mean      81.090950     10.552210  \n",
       "std       16.071752      5.307313  \n",
       "min       13.100000     -9.600000  \n",
       "25%       71.400000      7.100000  \n",
       "50%       83.600000     10.900000  \n",
       "75%       94.500000     14.300000  \n",
       "max      101.600000     23.400000  "
      ]
     },
     "execution_count": 17,
     "metadata": {},
     "output_type": "execute_result"
    }
   ],
   "source": [
    "df4.describe()"
   ]
  },
  {
   "cell_type": "markdown",
   "metadata": {},
   "source": [
    "# Basic Timeline Plot"
   ]
  },
  {
   "cell_type": "code",
   "execution_count": 14,
   "metadata": {},
   "outputs": [
    {
     "data": {
      "text/plain": [
       "<matplotlib.axes._subplots.AxesSubplot at 0x7f99c04926a0>"
      ]
     },
     "execution_count": 14,
     "metadata": {},
     "output_type": "execute_result"
    },
    {
     "data": {
      "image/png": "[encoded data removed]",
      "text/plain": [
       "<Figure size 1008x720 with 1 Axes>"
      ]
     },
     "metadata": {
      "needs_background": "light"
     },
     "output_type": "display_data"
    }
   ],
   "source": [
    "df4.plot(x=\"TIME\", y=[\"TMPB\", \"TMPA\", \"SMSC\", \"SMSD\"], figsize = (14,10), title=\"Temperature and Tension\")"
   ]
  },
  {
   "cell_type": "markdown",
   "metadata": {},
   "source": [
    "# INTERACTIVE VISUALISATIONS"
   ]
  },
  {
   "cell_type": "code",
   "execution_count": 15,
   "metadata": {},
   "outputs": [],
   "source": [
    "import plotly.plotly as py\n",
    "import plotly.graph_objs as go \n",
    "\n",
    "from datetime import datetime\n"
   ]
  },
  {
   "cell_type": "code",
   "execution_count": 20,
   "metadata": {},
   "outputs": [],
   "source": [
    "trace_TMPA = go.Scatter(x=list(df4.TIME),\n",
    "                        y=list(df4.TMPA),\n",
    "                        name='TMPA',\n",
    "                        line=dict(color='#33CFA5'))\n",
    "\n",
    "trace_TMPA_avg = go.Scatter(x=list(df4.TIME),\n",
    "                            y=[df4.TMPA.mean()]*len(df4.TIME),\n",
    "                            name='TMPA Average',\n",
    "                            visible=False,\n",
    "                            line=dict(color='#33CFA6', dash='dash'))\n",
    "\n",
    "trace_TMPB = go.Scatter(x=list(df4.TIME),\n",
    "                            y=list(df4.TMPB),\n",
    "                            name='TMPB',\n",
    "                            line=dict(color='#FF4500', dash='dash'))\n",
    "\n",
    "trace_SMSC = go.Scatter(x=list(df4.TIME),\n",
    "                       y=list(df4.SMSC),\n",
    "                       name='SMSC',\n",
    "                       line=dict(color='#00FF00'))\n",
    "\n",
    "trace_SMSD = go.Scatter(x=list(df4.TIME),\n",
    "                           y=list(df4.SMSD),\n",
    "                           name='SMSD',\n",
    "                           line=dict(color='#00BFFF', dash='dash'))\n"
   ]
  },
  {
   "cell_type": "code",
   "execution_count": 21,
   "metadata": {},
   "outputs": [],
   "source": [
    "data = [trace_TMPA, trace_TMPA_avg, trace_TMPB, trace_SMSC, trace_SMSD]"
   ]
  },
  {
   "cell_type": "code",
   "execution_count": 7,
   "metadata": {},
   "outputs": [],
   "source": [
    "updatemenus = list([\n",
    "    dict(active=-1,\n",
    "         buttons=list([   \n",
    "            dict(label = 'TMPA',\n",
    "                 method = 'update',\n",
    "                 args = [{'visible': [True, True, False, False, False]},\n",
    "                         {'title': 'TMPA'}]),\n",
    "             dict(label = 'TMPB',\n",
    "                 method = 'update',\n",
    "                 args = [{'visible': [False, False, True, False, False]},\n",
    "                         {'title': 'TMPB'}]),\n",
    "            dict(label = 'SMSC',\n",
    "                 method = 'update',\n",
    "                 args = [{'visible': [False, False, False, True, False]},\n",
    "                         {'title': 'SMSC'}]),\n",
    "             dict(label = 'SMSD',\n",
    "                 method = 'update',\n",
    "                 args = [{'visible': [False, False, False, False, True]},\n",
    "                         {'title': 'SMSD'}]),\n",
    "            dict(label = 'All',\n",
    "                 method = 'update',\n",
    "                 args = [{'visible': [True, True, True, True, True]},\n",
    "                         {'title': 'TMPA, TMPB, SMSC & SMSD'}]),\n",
    "            dict(label = 'Reset',\n",
    "                 method = 'update',\n",
    "                 args = [{'visible': [False, False, False, False, False]},\n",
    "                         {'title': 'Reseted view'}])\n",
    "        ]),\n",
    "    )\n",
    "])"
   ]
  },
  {
   "cell_type": "code",
   "execution_count": 22,
   "metadata": {
    "scrolled": false
   },
   "outputs": [
    {
     "name": "stdout",
     "output_type": "stream",
     "text": [
      "The draw time for this plot will be slow for clients without much RAM.\n"
     ]
    },
    {
     "name": "stderr",
     "output_type": "stream",
     "text": [
      "/home/jupyterhub/anaconda3/lib/python3.7/site-packages/plotly/api/v1/clientresp.py:40: UserWarning:\n",
      "\n",
      "Estimated Draw Time Slow\n",
      "\n",
      "/home/jupyterhub/anaconda3/lib/python3.7/site-packages/IPython/core/display.py:689: UserWarning:\n",
      "\n",
      "Consider using IPython.display.IFrame instead\n",
      "\n"
     ]
    },
    {
     "data": {
      "text/html": [
       "<iframe id=\"igraph\" scrolling=\"no\" style=\"border:none;\" seamless=\"seamless\" src=\"https://plot.ly/~marinalopez2110/18.embed\" height=\"525px\" width=\"100%\"></iframe>"
      ],
      "text/plain": [
       "<plotly.tools.PlotlyDisplay object>"
      ]
     },
     "execution_count": 22,
     "metadata": {},
     "output_type": "execute_result"
    }
   ],
   "source": [
    "layout = dict(title='TEMPERATURE AND TENSION', showlegend=False,\n",
    "              updatemenus=updatemenus)\n",
    "\n",
    "fig = dict(data=data, layout=layout)\n",
    "py.iplot(fig)"
   ]
  },
  {
   "cell_type": "markdown",
   "metadata": {},
   "source": [
    "# IN THE WORKS"
   ]
  },
  {
   "cell_type": "markdown",
   "metadata": {},
   "source": [
    "## Jupyter Notebooks"
   ]
  },
  {
   "cell_type": "markdown",
   "metadata": {},
   "source": [
    "- Add Data cleaning examples\n",
    "- Add an R template\n",
    "- Add instruction for Web Visualisations\n",
    "- Repeated Data Identification"
   ]
  },
  {
   "cell_type": "markdown",
   "metadata": {},
   "source": [
    "## Jupyter Infrastructure"
   ]
  },
  {
   "cell_type": "markdown",
   "metadata": {},
   "source": [
    "- Create different accounts\n",
    "- Configure WebDav protocol to be able to access information from Nextcloud via URL\n",
    "- Configure GitHub account\n",
    "- Create detailed instruction for Sharing notebooks and visualisations\n",
    "- Configure certificate"
   ]
  },
  {
   "cell_type": "markdown",
   "metadata": {},
   "source": [
    "## NextCloud "
   ]
  },
  {
   "cell_type": "markdown",
   "metadata": {},
   "source": [
    "- Configure Certificate in Dev and Prod"
   ]
  },
  {
   "cell_type": "markdown",
   "metadata": {},
   "source": [
    "## Website"
   ]
  },
  {
   "cell_type": "markdown",
   "metadata": {},
   "source": [
    "- Configure Map in javascript\n",
    "- Create visualisation page\n",
    "- Finish up many details\n",
    "- Deploy from cloud to DEV and PROD\n",
    "- SSO???? - most likely not"
   ]
  },
  {
   "cell_type": "code",
   "execution_count": null,
   "metadata": {},
   "outputs": [],
   "source": []
  },
  {
   "cell_type": "code",
   "execution_count": null,
   "metadata": {},
   "outputs": [],
   "source": []
  },
  {
   "cell_type": "code",
   "execution_count": null,
   "metadata": {},
   "outputs": [],
   "source": []
  }
 ],
 "metadata": {
  "kernelspec": {
   "display_name": "Python 3",
   "language": "python",
   "name": "python3"
  },
  "language_info": {
   "codemirror_mode": {
    "name": "ipython",
    "version": 3
   },
   "file_extension": ".py",
   "mimetype": "text/x-python",
   "name": "python",
   "nbconvert_exporter": "python",
   "pygments_lexer": "ipython3",
   "version": "3.7.1"
  }
 },
 "nbformat": 4,
 "nbformat_minor": 2
}
